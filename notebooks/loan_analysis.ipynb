{
 "cells": [
  {
   "cell_type": "markdown",
   "id": "c24d8382",
   "metadata": {},
   "source": [
    "Cell 1: Import libraries"
   ]
  },
  {
   "cell_type": "code",
   "execution_count": null,
   "id": "58fd5a5b",
   "metadata": {
    "vscode": {
     "languageId": "plaintext"
    }
   },
   "outputs": [],
   "source": [
    "import pandas as pd\n",
    "import numpy as np\n",
    "import matplotlib.pyplot as plt\n",
    "import seaborn as sns\n",
    "\n",
    "from sklearn.model_selection import train_test_split\n",
    "from sklearn.linear_model import LogisticRegression\n",
    "from sklearn.metrics import accuracy_score\n"
   ]
  },
  {
   "cell_type": "markdown",
   "id": "9efa5478",
   "metadata": {},
   "source": [
    "Cell 2: Load dataset"
   ]
  },
  {
   "cell_type": "code",
   "execution_count": null,
   "id": "baf3e4a8",
   "metadata": {
    "vscode": {
     "languageId": "plaintext"
    }
   },
   "outputs": [],
   "source": [
    "# Load CSV file\n",
    "df = pd.read_csv(\"../data/loan_data.csv\")   # path adjust if needed\n",
    "df.head()\n"
   ]
  },
  {
   "cell_type": "markdown",
   "id": "31ed35a9",
   "metadata": {},
   "source": [
    "Cell 3: Basic info"
   ]
  },
  {
   "cell_type": "code",
   "execution_count": null,
   "id": "905ccd5b",
   "metadata": {
    "vscode": {
     "languageId": "plaintext"
    }
   },
   "outputs": [],
   "source": [
    "df.info()\n",
    "df.describe()\n",
    "df.isnull().sum()\n"
   ]
  },
  {
   "cell_type": "markdown",
   "id": "b1885bbe",
   "metadata": {},
   "source": [
    "Cell 4: Data Cleaning"
   ]
  },
  {
   "cell_type": "code",
   "execution_count": null,
   "id": "6f3975c1",
   "metadata": {
    "vscode": {
     "languageId": "plaintext"
    }
   },
   "outputs": [],
   "source": [
    "df['LoanAmount'] = df['LoanAmount'].fillna(df['LoanAmount'].median())\n",
    "df['Loan_Status'] = df['Loan_Status'].map({'Y': 1, 'N': 0})\n",
    "df = df.dropna()\n",
    "\n",
    "df.to_csv(\"../data/loan_data_cleaned.csv\", index=False)\n",
    "print(\"✅ Cleaned data saved\")\n"
   ]
  },
  {
   "cell_type": "markdown",
   "id": "f437c9b1",
   "metadata": {},
   "source": [
    "Cell 5: Exploratory Data Analysis (EDA)"
   ]
  },
  {
   "cell_type": "code",
   "execution_count": null,
   "id": "96fd1cde",
   "metadata": {
    "vscode": {
     "languageId": "plaintext"
    }
   },
   "outputs": [],
   "source": [
    "# Loan status distribution\n",
    "sns.countplot(x=\"Loan_Status\", data=df)\n",
    "plt.title(\"Loan Status Distribution\")\n",
    "plt.show()\n",
    "\n",
    "# Income vs LoanAmount\n",
    "sns.scatterplot(x=\"ApplicantIncome\", y=\"LoanAmount\", hue=\"Loan_Status\", data=df)\n",
    "plt.title(\"Income vs Loan Amount by Status\")\n",
    "plt.show()\n"
   ]
  },
  {
   "cell_type": "markdown",
   "id": "bb465bcc",
   "metadata": {},
   "source": [
    "Cell 6: Model Training"
   ]
  },
  {
   "cell_type": "code",
   "execution_count": null,
   "id": "28e1e62c",
   "metadata": {
    "vscode": {
     "languageId": "plaintext"
    }
   },
   "outputs": [],
   "source": [
    "X = df[['ApplicantIncome','CoapplicantIncome','LoanAmount']]\n",
    "y = df['Loan_Status']\n",
    "\n",
    "X_train, X_test, y_train, y_test = train_test_split(X, y, test_size=0.2, random_state=42)\n",
    "\n",
    "model = LogisticRegression(max_iter=1000)\n",
    "model.fit(X_train, y_train)\n",
    "\n",
    "y_pred = model.predict(X_test)\n",
    "print(\"✅ Accuracy:\", accuracy_score(y_test, y_pred))\n"
   ]
  }
 ],
 "metadata": {
  "language_info": {
   "name": "python"
  }
 },
 "nbformat": 4,
 "nbformat_minor": 5
}
